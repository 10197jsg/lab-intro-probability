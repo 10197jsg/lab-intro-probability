{
 "cells": [
  {
   "cell_type": "markdown",
   "metadata": {},
   "source": [
    "# Lab | Intro to Probability"
   ]
  },
  {
   "cell_type": "markdown",
   "metadata": {},
   "source": [
    "**Objective**\n",
    "\n",
    "Welcome to this Intro to Probability lab, where we explore decision-making scenarios through the lens of probability and strategic analysis. In the business world, making informed decisions is crucial, especially when faced with uncertainties. This lab focuses on scenarios where probabilistic outcomes play a significant role in shaping strategies and outcomes. Students will engage in exercises that require assessing and choosing optimal paths based on data-driven insights. The goal is to enhance your skills by applying probability concepts to solve real-world problems."
   ]
  },
  {
   "cell_type": "markdown",
   "metadata": {},
   "source": [
    "**Challenge 1**"
   ]
  },
  {
   "cell_type": "markdown",
   "metadata": {},
   "source": [
    "#### Ironhack Airlines \n",
    "\n",
    "Often Airlines sell more tickets than they have seats available, this is called overbooking. Consider the following:\n",
    "- A plane has 450 seats. \n",
    "- Based on historical data we conclude that each individual passenger has a 3% chance of missing it's flight. \n",
    "\n",
    "If the Ironhack Airlines routinely sells 460 tickets, what is the chance that they have a seats for all passenger?"
   ]
  },
  {
   "cell_type": "code",
   "execution_count": 1,
   "metadata": {},
   "outputs": [
    {
     "name": "stdout",
     "output_type": "stream",
     "text": [
      "Probability that there are seats for all passengers: 0.8845\n"
     ]
    }
   ],
   "source": [
    "from scipy.stats import binom\n",
    "\n",
    "# parameters\n",
    "n = 460  # number of tickets sold\n",
    "p = 0.97  # probability that a passenger shows up\n",
    "seats = 450  # number of seats on the plane\n",
    "\n",
    "# probability that 450 or fewer passengers show up\n",
    "prob = binom.cdf(seats, n, p)\n",
    "\n",
    "print(f\"Probability that there are seats for all passengers: {prob:.4f}\")"
   ]
  },
  {
   "cell_type": "markdown",
   "metadata": {},
   "source": [
    "**Challenge 2**"
   ]
  },
  {
   "cell_type": "markdown",
   "metadata": {},
   "source": [
    "#### Ironhack Call Center "
   ]
  },
  {
   "cell_type": "markdown",
   "metadata": {},
   "source": [
    "Suppose a customer service representative at a call center is handling customer complaints. Consider the following:\n",
    "- The probability of successfully resolving a customer complaint on the first attempt is 0.3. \n",
    "\n",
    "\n",
    "What is the probability that the representative needs to make at least three attempts before successfully resolving a customer complaint?"
   ]
  },
  {
   "cell_type": "code",
   "execution_count": 2,
   "metadata": {},
   "outputs": [
    {
     "name": "stdout",
     "output_type": "stream",
     "text": [
      "Probability that at least 3 attempts are needed: 0.4900\n"
     ]
    }
   ],
   "source": [
    "# probability of success\n",
    "p = 0.3\n",
    "\n",
    "# probability that first success happens on or after the 3rd attempt\n",
    "prob = (1 - p)**2\n",
    "\n",
    "print(f\"Probability that at least 3 attempts are needed: {prob:.4f}\")"
   ]
  },
  {
   "cell_type": "markdown",
   "metadata": {},
   "source": [
    "**Challenge 3**"
   ]
  },
  {
   "cell_type": "markdown",
   "metadata": {},
   "source": [
    "#### Ironhack Website"
   ]
  },
  {
   "cell_type": "markdown",
   "metadata": {},
   "source": [
    "Consider a scenario related to Ironhack website traffic. Where:\n",
    "- our website takes on average 500 visits per hour.\n",
    "- the website's server is designed to handle up to 550 vists per hour.\n",
    "\n",
    "\n",
    "What is the probability of the website server being overwhelmed?"
   ]
  },
  {
   "cell_type": "code",
   "execution_count": 4,
   "metadata": {},
   "outputs": [
    {
     "name": "stdout",
     "output_type": "stream",
     "text": [
      "Probability that the web server is overwhelmed: 0.0129\n"
     ]
    }
   ],
   "source": [
    "from scipy.stats import poisson\n",
    "\n",
    "# parameters\n",
    "lambda_rate = 500\n",
    "capacity = 550\n",
    "\n",
    "# probability the server is overwhelmed (more than 550 visits)\n",
    "prob_overwhelmed = 1 - poisson.cdf(capacity, lambda_rate)\n",
    "\n",
    "print(f\"Probability that the web server is overwhelmed: {prob_overwhelmed:.4f}\")"
   ]
  },
  {
   "cell_type": "markdown",
   "metadata": {},
   "source": [
    "What is the probability of being overwhelmed at some point during a day? (consider 24hours)"
   ]
  },
  {
   "cell_type": "code",
   "execution_count": 5,
   "metadata": {},
   "outputs": [
    {
     "name": "stdout",
     "output_type": "stream",
     "text": [
      "Probability of being overwhelmed in 1 hour: 0.0129\n",
      "Probability of being overwhelmed at least once in a day: 0.2677\n"
     ]
    }
   ],
   "source": [
    "from scipy.stats import poisson\n",
    "\n",
    "# parameters\n",
    "lambda_rate = 500\n",
    "capacity = 550\n",
    "\n",
    "# one-hour probability of being overwhelmed\n",
    "p_hour = 1 - poisson.cdf(capacity, lambda_rate)\n",
    "\n",
    "# probability of being overwhelmed at least once in 24 hours\n",
    "p_day = 1 - (1 - p_hour) ** 24\n",
    "\n",
    "print(f\"Probability of being overwhelmed in 1 hour: {p_hour:.4f}\")\n",
    "print(f\"Probability of being overwhelmed at least once in a day: {p_day:.4f}\")"
   ]
  },
  {
   "cell_type": "markdown",
   "metadata": {},
   "source": [
    "**Challenge 4**"
   ]
  },
  {
   "cell_type": "markdown",
   "metadata": {},
   "source": [
    "#### Ironhack Helpdesk"
   ]
  },
  {
   "cell_type": "markdown",
   "metadata": {},
   "source": [
    "Consider a scenario related to the time between arrivals of customers at a service desk.\n",
    "\n",
    "On average, a customers arrives every 10minutes.\n",
    "\n",
    "What is the probability that the next customer will arrive within the next 5 minutes?"
   ]
  },
  {
   "cell_type": "code",
   "execution_count": 6,
   "metadata": {},
   "outputs": [
    {
     "name": "stdout",
     "output_type": "stream",
     "text": [
      "Probability that the next customer arrives within 5 minutes: 0.3935\n"
     ]
    }
   ],
   "source": [
    "from scipy.stats import expon\n",
    "\n",
    "# rate parameter (lambda) is 0.1 per minute\n",
    "rate = 0.1\n",
    "\n",
    "# time of interest: within 5 minutes\n",
    "t = 5\n",
    "\n",
    "# probability that the next customer arrives within 5 minutes\n",
    "prob = expon.cdf(t, scale=1/rate)\n",
    "\n",
    "print(f\"Probability that the next customer arrives within 5 minutes: {prob:.4f}\")"
   ]
  },
  {
   "cell_type": "markdown",
   "metadata": {},
   "source": [
    "If there is no customer for 15minutes, employees can that a 5minutes break.\n",
    "\n",
    "What is the probability an employee taking a break?"
   ]
  },
  {
   "cell_type": "code",
   "execution_count": 7,
   "metadata": {},
   "outputs": [
    {
     "name": "stdout",
     "output_type": "stream",
     "text": [
      "Probability that an employee gets a break (no customer for 15 minutes): 0.2231\n"
     ]
    }
   ],
   "source": [
    "from scipy.stats import expon\n",
    "\n",
    "# rate parameter (lambda) is 0.1 per minute (1 customer every 10 minutes)\n",
    "rate = 0.1\n",
    "\n",
    "# time for break eligibility: no customers for 15 minutes\n",
    "t_break = 15\n",
    "prob_break = expon.sf(t_break, scale=1/rate)  # P(T > 15)\n",
    "\n",
    "print(f\"Probability that an employee gets a break (no customer for 15 minutes): {prob_break:.4f}\")"
   ]
  },
  {
   "cell_type": "markdown",
   "metadata": {},
   "source": [
    "**Challenge 5**"
   ]
  },
  {
   "cell_type": "markdown",
   "metadata": {},
   "source": [
    "The weights of a certain species of birds follow a normal distribution with a mean weight of 150 grams and a standard deviation of 10 grams. \n",
    "\n",
    "- If we randomly select a bird, what is the probability that its weight is between 140 and 160 grams?"
   ]
  },
  {
   "cell_type": "code",
   "execution_count": 8,
   "metadata": {},
   "outputs": [
    {
     "name": "stdout",
     "output_type": "stream",
     "text": [
      "Probability that a bird weighs between 140 and 160 grams: 0.6827\n"
     ]
    }
   ],
   "source": [
    "from scipy.stats import norm\n",
    "\n",
    "# parameters\n",
    "mean = 150\n",
    "std_dev = 10\n",
    "\n",
    "# compute CDF values\n",
    "prob_140 = norm.cdf(140, loc=mean, scale=std_dev)\n",
    "prob_160 = norm.cdf(160, loc=mean, scale=std_dev)\n",
    "\n",
    "# probability the weight is between 140 and 160\n",
    "prob_between = prob_160 - prob_140\n",
    "\n",
    "print(f\"Probability that a bird weighs between 140 and 160 grams: {prob_between:.4f}\")"
   ]
  },
  {
   "cell_type": "markdown",
   "metadata": {},
   "source": [
    "**Challenge 6**"
   ]
  },
  {
   "cell_type": "markdown",
   "metadata": {},
   "source": [
    "If the lifetime (in hours) of a certain electronic component follows an exponential distribution with a mean lifetime of 50 hours, what is the probability that the component fails within the first 30 hours?"
   ]
  },
  {
   "cell_type": "code",
   "execution_count": 9,
   "metadata": {},
   "outputs": [
    {
     "name": "stdout",
     "output_type": "stream",
     "text": [
      "Probability that the component fails within 30 hours: 0.4512\n"
     ]
    }
   ],
   "source": [
    "from scipy.stats import expon\n",
    "\n",
    "# parameters\n",
    "mean_lifetime = 50  # hours\n",
    "rate = 1 / mean_lifetime  # lambda\n",
    "time = 30  # hours\n",
    "\n",
    "# probability of failure within 30 hours\n",
    "prob_failure_30 = expon.cdf(time, scale=1/rate)\n",
    "\n",
    "print(f\"Probability that the component fails within 30 hours: {prob_failure_30:.4f}\")"
   ]
  }
 ],
 "metadata": {
  "kernelspec": {
   "display_name": "base",
   "language": "python",
   "name": "python3"
  },
  "language_info": {
   "codemirror_mode": {
    "name": "ipython",
    "version": 3
   },
   "file_extension": ".py",
   "mimetype": "text/x-python",
   "name": "python",
   "nbconvert_exporter": "python",
   "pygments_lexer": "ipython3",
   "version": "3.12.7"
  }
 },
 "nbformat": 4,
 "nbformat_minor": 2
}
